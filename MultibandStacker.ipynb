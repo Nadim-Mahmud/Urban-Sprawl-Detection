{
 "cells": [
  {
   "cell_type": "code",
   "execution_count": 1,
   "metadata": {},
   "outputs": [],
   "source": [
    "import rasterio\n",
    "from rasterio.merge import merge\n",
    "import numpy as np\n",
    "import os"
   ]
  },
  {
   "cell_type": "code",
   "execution_count": 2,
   "metadata": {},
   "outputs": [
    {
     "name": "stdout",
     "output_type": "stream",
     "text": [
      "['LC08_L2SP_137043_20240309_20240316_02_T1_SR_B7.TIF', 'LC08_L2SP_137043_20240309_20240316_02_T1_SR_B6.TIF', 'LC08_L2SP_137043_20240309_20240316_02_T1_SR_B4.TIF', 'LC08_L2SP_137043_20240309_20240316_02_T1_SR_B5.TIF', 'LC08_L2SP_137043_20240309_20240316_02_T1_SR_QA_AEROSOL.TIF', 'LC08_L2SP_137043_20240309_20240316_02_T1_SR_B1.TIF', 'LC08_L2SP_137043_20240309_20240316_02_T1_SR_B2.TIF', 'LC08_L2SP_137043_20240309_20240316_02_T1_SR_B3.TIF', 'LC09_L2SP_137044_20240301_20240305_02_T1_SR_B1.TIF', 'LC09_L2SP_137044_20240301_20240305_02_T1_SR_B2.TIF', 'LC09_L2SP_137044_20240301_20240305_02_T1_SR_B3.TIF', 'LC09_L2SP_137044_20240301_20240305_02_T1_SR_B7.TIF', 'LC09_L2SP_137044_20240301_20240305_02_T1_SR_B6.TIF', 'LC09_L2SP_137044_20240301_20240305_02_T1_SR_B4.TIF', 'LC09_L2SP_137044_20240301_20240305_02_T1_SR_B5.TIF', 'LC08_L2SP_137043_20240309_20240316_02_T1_QA_PIXEL.TIF', 'LC09_L2SP_137044_20240301_20240305_02_T1_QA_PIXEL.TIF', 'LC09_L2SP_137044_20240301_20240305_02_T1_QA_RADSAT.TIF', 'LC09_L2SP_137044_20240301_20240305_02_T1_SR_QA_AEROSOL.TIF', 'LC08_L2SP_137043_20240309_20240316_02_T1_QA_RADSAT.TIF']\n"
     ]
    }
   ],
   "source": [
    "directory_path = './data'\n",
    "\n",
    "files = os.listdir(directory_path)\n",
    "\n",
    "print(files)"
   ]
  },
  {
   "cell_type": "code",
   "execution_count": 3,
   "metadata": {},
   "outputs": [
    {
     "name": "stdout",
     "output_type": "stream",
     "text": [
      "10\n"
     ]
    }
   ],
   "source": [
    "landsat_bands = []\n",
    "\n",
    "for filename in files:\n",
    "    if 'LC08_L2SP_137043_20240309_20240316' in filename:\n",
    "        landsat_bands.append(directory_path + '/' + filename)\n",
    "\n",
    "print(len(landsat_bands))"
   ]
  },
  {
   "cell_type": "code",
   "execution_count": 4,
   "metadata": {},
   "outputs": [],
   "source": [
    "# Open each band as a raster file\n",
    "band_data = []\n",
    "for band in landsat_bands:\n",
    "    with rasterio.open(band) as src:\n",
    "        band_data.append(src.read(1))  # Read the first band (since these are single-band images)\n",
    "\n",
    "# Stack the bands into one array\n",
    "stacked_array = np.stack(band_data)\n",
    "\n",
    "# Get metadata from one of the files to use for the output file\n",
    "with rasterio.open(landsat_bands[0]) as src:\n",
    "    meta = src.meta.copy()\n",
    "\n",
    "# Update the metadata to reflect the number of bands\n",
    "meta.update(count=len(landsat_bands))\n",
    "\n",
    "# Write the stacked array to a new output file\n",
    "with rasterio.open('output_combined.tif', 'w', **meta) as dst:\n",
    "    for i in range(stacked_array.shape[0]):\n",
    "        dst.write(stacked_array[i], i+1)  # Write each band to the output file\n"
   ]
  }
 ],
 "metadata": {
  "kernelspec": {
   "display_name": "gisKernel",
   "language": "python",
   "name": "giskernel"
  },
  "language_info": {
   "codemirror_mode": {
    "name": "ipython",
    "version": 3
   },
   "file_extension": ".py",
   "mimetype": "text/x-python",
   "name": "python",
   "nbconvert_exporter": "python",
   "pygments_lexer": "ipython3",
   "version": "3.12.4"
  }
 },
 "nbformat": 4,
 "nbformat_minor": 2
}
