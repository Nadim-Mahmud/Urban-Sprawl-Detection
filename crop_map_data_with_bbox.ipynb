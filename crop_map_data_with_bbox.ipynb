{
 "cells": [
  {
   "cell_type": "code",
   "execution_count": 4,
   "metadata": {},
   "outputs": [],
   "source": [
    "import rasterio\n",
    "import glob\n",
    "\n",
    "import rasterio\n",
    "from pyproj import Transformer\n",
    "import matplotlib.pyplot as plt\n",
    "from PIL import Image\n",
    "from osgeo import gdal"
   ]
  },
  {
   "cell_type": "code",
   "execution_count": 5,
   "metadata": {},
   "outputs": [],
   "source": [
    "MINX = 90.2965197\n",
    "MINY = 23.6495179\n",
    "MAXX = 90.5326960\n",
    "MAXY = 23.9071478\n",
    "\n",
    "bounding_box = [MINX, MINY, MAXX, MAXY]"
   ]
  },
  {
   "cell_type": "code",
   "execution_count": 6,
   "metadata": {},
   "outputs": [],
   "source": [
    "ROOT = './Landsat8/'\n",
    "\n",
    "input_path = ROOT + 'rawData/*/*.TIF'\n",
    "output_path = ROOT + 'cropped_bbox/'"
   ]
  },
  {
   "cell_type": "code",
   "execution_count": 7,
   "metadata": {},
   "outputs": [],
   "source": [
    "def crop_with_bbox(input_path, output_path, bounding_box):\n",
    "    src = rasterio.open(input_path)\n",
    "        \n",
    "    transformer = Transformer.from_crs(\"epsg:4326\", src.crs, always_xy=True)\n",
    "        \n",
    "    # Transform the bounding box from lat/long to the GeoTIFF's CRS\n",
    "    minx, miny = transformer.transform(bounding_box[0], bounding_box[1])\n",
    "    maxx, maxy = transformer.transform(bounding_box[2], bounding_box[3])\n",
    "\n",
    "    bounding_box_tiff_crs = [minx, maxy, maxx, miny]\n",
    "\n",
    "    gdal.Translate(\n",
    "            output_path,                    \n",
    "            input_path,                    \n",
    "            projWin=bounding_box_tiff_crs,               \n",
    "            format='GTiff'\n",
    "        )"
   ]
  },
  {
   "cell_type": "code",
   "execution_count": 8,
   "metadata": {},
   "outputs": [],
   "source": [
    "file_path_list = glob.glob(input_path)\n",
    "\n",
    "for input_file in file_path_list:\n",
    "    output_file_path = output_path + input_file.split('rawData/')[1]\n",
    "    #print(input_file, output_file)\n",
    "    crop_with_bbox(input_file, output_file_path, bounding_box)"
   ]
  }
 ],
 "metadata": {
  "kernelspec": {
   "display_name": "gisKernel",
   "language": "python",
   "name": "giskernel"
  },
  "language_info": {
   "codemirror_mode": {
    "name": "ipython",
    "version": 3
   },
   "file_extension": ".py",
   "mimetype": "text/x-python",
   "name": "python",
   "nbconvert_exporter": "python",
   "pygments_lexer": "ipython3",
   "version": "3.12.4"
  }
 },
 "nbformat": 4,
 "nbformat_minor": 2
}
