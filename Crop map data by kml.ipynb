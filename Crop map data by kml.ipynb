{
 "cells": [
  {
   "cell_type": "code",
   "execution_count": 19,
   "metadata": {},
   "outputs": [],
   "source": [
    "import rasterio\n",
    "from rasterio.mask import mask\n",
    "import geopandas as gpd, fiona\n",
    "import glob\n",
    "import os"
   ]
  },
  {
   "cell_type": "code",
   "execution_count": 33,
   "metadata": {
    "executionInfo": {
     "elapsed": 268,
     "status": "ok",
     "timestamp": 1730786436113,
     "user": {
      "displayName": "Md Nahid Hasan",
      "userId": "14873841671602299037"
     },
     "user_tz": 300
    },
    "id": "mkRhcGWcVo4S"
   },
   "outputs": [],
   "source": [
    "def read_kml():\n",
    "    # Load the KML file\n",
    "    kml_path = 'dhaka_cIty_gis_project.kml'\n",
    "    shapefile = gpd.read_file(kml_path, driver=\"KML\", allow_unsupported_drivers=True)\n",
    "\n",
    "    return shapefile"
   ]
  },
  {
   "cell_type": "code",
   "execution_count": 34,
   "metadata": {
    "executionInfo": {
     "elapsed": 189,
     "status": "ok",
     "timestamp": 1730786585286,
     "user": {
      "displayName": "Md Nahid Hasan",
      "userId": "14873841671602299037"
     },
     "user_tz": 300
    },
    "id": "auInt8yKVpY3"
   },
   "outputs": [],
   "source": [
    "def crop_using_kml(input_file_path, output_file_path):\n",
    "    with rasterio.open(input_file_path) as src:\n",
    "        shapefile = read_kml()\n",
    "\n",
    "        # Ensure shapefile has the same CRS as the raster\n",
    "        shapefile = shapefile.to_crs(src.crs)\n",
    "\n",
    "        # Convert the geometry to GeoJSON format for rasterio\n",
    "        geometry = [feature[\"geometry\"] for feature in shapefile.__geo_interface__[\"features\"]]\n",
    "\n",
    "        # Mask and crop the B1 raster using the shapefile geometry\n",
    "        cropped_image, cropped_transform = mask(src, geometry, crop=True)\n",
    "\n",
    "        # Update metadata to fit the cropped image\n",
    "        cropped_meta = src.meta.copy()\n",
    "        cropped_meta.update({\n",
    "            \"height\": cropped_image.shape[1],\n",
    "            \"width\": cropped_image.shape[2],\n",
    "            \"transform\": cropped_transform\n",
    "        })\n",
    "\n",
    "    # Optionally save the cropped output\n",
    "    with rasterio.open(output_file_path, 'w', **cropped_meta) as dest:\n",
    "        dest.write(cropped_image)\n"
   ]
  },
  {
   "cell_type": "code",
   "execution_count": 35,
   "metadata": {},
   "outputs": [],
   "source": [
    "ROOT = './Landsat8/'\n",
    "\n",
    "input_path = ROOT + 'rawData/*/*.TIF'\n",
    "output_path = ROOT + 'cropped/'"
   ]
  },
  {
   "cell_type": "code",
   "execution_count": 37,
   "metadata": {},
   "outputs": [],
   "source": [
    "file_path_list = glob.glob(input_path)\n",
    "\n",
    "for input_file in file_path_list:\n",
    "    output_file = output_path + input_file.split('rawData/')[1]\n",
    "    #print(input_file, output_file)\n",
    "    crop_using_kml(input_file, output_file)\n",
    "\n"
   ]
  }
 ],
 "metadata": {
  "colab": {
   "authorship_tag": "ABX9TyO3O0KYllIxo8Dt4rrjWyC8",
   "provenance": []
  },
  "kernelspec": {
   "display_name": "gisKernel",
   "language": "python",
   "name": "giskernel"
  },
  "language_info": {
   "codemirror_mode": {
    "name": "ipython",
    "version": 3
   },
   "file_extension": ".py",
   "mimetype": "text/x-python",
   "name": "python",
   "nbconvert_exporter": "python",
   "pygments_lexer": "ipython3",
   "version": "3.12.4"
  }
 },
 "nbformat": 4,
 "nbformat_minor": 0
}
